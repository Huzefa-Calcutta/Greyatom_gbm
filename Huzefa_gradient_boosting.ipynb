{
  "cells": [
    {
      "metadata": {
        "_uuid": "6a777a9cc9ad77dfb593f31f95ca38eb3532e0a0",
        "_cell_guid": "675c904d-a805-4f18-b346-99edb3fb4259"
      },
      "cell_type": "markdown",
      "source": "## Gradient boosting from scratch\n### Medium post with explaination: https://medium.com/@pgrover3/gradient-boosting-from-scratch-1e317ae4587d\n"
    },
    {
      "metadata": {
        "_uuid": "8473bd95a68d5a4f4d2086df416ef5687651ce42",
        "_cell_guid": "1c292fca-13b3-4a89-8c96-879c2f149489"
      },
      "cell_type": "markdown",
      "source": "The logic of **gradient boosting** is very simple (if explained intuitively, without using mathematical notation). I expect that whoever is reading this would have done simple linear regression modeling.\nOne of the very basic assumption of linear regression is that it's sum of residuals is 0. Although, tree based models are not based on any of such assumptions, but if we think logic (not statistics) behind these assumptions, we might argue that, if sum of residuals is not 0, then most probably there is some pattern in the residuals of our model which can be leveraged to make our model better.\nSo, the intuition behind gradient boosting algorithm is to `leverage the pattern in residuals and strenghten a weak prediction model, until our residuals become randomly (maybe random normal too) distributed`. Once we reach a stage that residuals do not have any pattern that could be modeled, we can stop modeling residuals (otherwise it might lead to overfitting). Algorithmically, we are minimizing our loss function, such that test loss reach it’s minima."
    },
    {
      "metadata": {
        "_uuid": "92321ddcadf065a1e813930b77fe3ccc9fe577ef",
        "_cell_guid": "6ff32c7c-669f-4cf6-8bee-8950833f9369",
        "collapsed": true,
        "trusted": false
      },
      "cell_type": "code",
      "source": "%matplotlib inline\n\nimport pandas as pd\nimport numpy as np\nfrom IPython.display import display\nfrom fastai.imports import *\nfrom sklearn import metrics",
      "execution_count": null,
      "outputs": []
    },
    {
      "metadata": {
        "_uuid": "2dcf0abbdc331a221736c0ec67204a6b8001c75c",
        "_cell_guid": "68c06d01-6cee-4170-8b87-5b13398df4d0",
        "collapsed": true,
        "trusted": false
      },
      "cell_type": "code",
      "source": "class DecisionTree():\n    def __init__(self, x, y, idxs = None, min_leaf=2):\n        if idxs is None: idxs=np.arange(len(y))\n        self.x,self.y,self.idxs,self.min_leaf = x,y,idxs,min_leaf\n        self.n,self.c = len(idxs), x.shape[1]\n        self.val = np.mean(y[idxs])\n        self.score = float('inf')\n        self.find_varsplit()\n        \n    def find_varsplit(self):\n        for i in range(self.c): self.find_better_split(i)\n        if self.score == float('inf'): return\n        x = self.split_col\n        lhs = np.nonzero(x<=self.split)[0]\n        rhs = np.nonzero(x>self.split)[0]\n        self.lhs = DecisionTree(self.x, self.y, self.idxs[lhs])\n        self.rhs = DecisionTree(self.x, self.y, self.idxs[rhs])\n\n    def find_better_split(self, var_idx):\n        x,y = self.x.values[self.idxs,var_idx], self.y[self.idxs]\n        sort_idx = np.argsort(x)\n        sort_y,sort_x = y[sort_idx], x[sort_idx]\n        rhs_cnt,rhs_sum,rhs_sum2 = self.n, sort_y.sum(), (sort_y**2).sum()\n        lhs_cnt,lhs_sum,lhs_sum2 = 0,0.,0.\n\n        for i in range(0,self.n-self.min_leaf-1):\n            xi,yi = sort_x[i],sort_y[i]\n            lhs_cnt += 1; rhs_cnt -= 1\n            lhs_sum += yi; rhs_sum -= yi\n            lhs_sum2 += yi**2; rhs_sum2 -= yi**2\n            if i<self.min_leaf or xi==sort_x[i+1]:\n                continue\n\n            lhs_std = std_agg(lhs_cnt, lhs_sum, lhs_sum2)\n            rhs_std = std_agg(rhs_cnt, rhs_sum, rhs_sum2)\n            curr_score = lhs_std*lhs_cnt + rhs_std*rhs_cnt\n            if curr_score<self.score: \n                self.var_idx,self.score,self.split = var_idx,curr_score,xi\n\n    @property\n    def split_name(self): return self.x.columns[self.var_idx]\n    \n    @property\n    def split_col(self): return self.x.values[self.idxs,self.var_idx]\n\n    @property\n    def is_leaf(self): return self.score == float('inf')\n    \n    def __repr__(self):\n        s = f'n: {self.n}; val:{self.val}'\n        if not self.is_leaf:\n            s += f'; score:{self.score}; split:{self.split}; var:{self.split_name}'\n        return s\n\n    def predict(self, x):\n        return np.array([self.predict_row(xi) for xi in x])\n\n    def predict_row(self, xi):\n        if self.is_leaf: return self.val\n        t = self.lhs if xi[self.var_idx]<=self.split else self.rhs\n        return t.predict_row(xi)",
      "execution_count": null,
      "outputs": []
    },
    {
      "metadata": {
        "_uuid": "2f9c2d2fdff663c028c6da7f1fd8b8645d48a1ed",
        "_cell_guid": "1faf7470-1a9b-4de9-aa2e-d5fb6968388c"
      },
      "cell_type": "markdown",
      "source": "## Data simulation"
    },
    {
      "metadata": {
        "_uuid": "9df9f429cb2578c60678386d89e36fa1384c3a6c",
        "_cell_guid": "34a2529e-8e75-43ee-95cc-2728b7f2b8c3",
        "collapsed": true,
        "trusted": false
      },
      "cell_type": "code",
      "source": "x = np.arange(0,50)\nx = pd.DataFrame({'x':x})",
      "execution_count": null,
      "outputs": []
    },
    {
      "metadata": {
        "_uuid": "57dc2fedf62d3ee026def5ac5299ef4c65557301",
        "_cell_guid": "ae9981a9-0487-46e1-a776-818fa0033b0d",
        "collapsed": true,
        "trusted": false
      },
      "cell_type": "code",
      "source": "# just random uniform distributions in differnt range\n\ny1 = np.random.uniform(10,15,10)\ny2 = np.random.uniform(20,25,10)\ny3 = np.random.uniform(0,5,10)\ny4 = np.random.uniform(30,32,10)\ny5 = np.random.uniform(13,17,10)\n\ny = np.concatenate((y1,y2,y3,y4,y5))\ny = y[:,None]",
      "execution_count": null,
      "outputs": []
    },
    {
      "metadata": {
        "_uuid": "37537e95e05ffe1e954d47dcd00f7e077b565139",
        "_cell_guid": "9c4938ee-fa9a-4766-aae8-cb21f7e13402"
      },
      "cell_type": "markdown",
      "source": "## Scatter plot of data"
    },
    {
      "metadata": {
        "_uuid": "f4bd72a38f7f285e793b77e97a46dd7521555786",
        "_cell_guid": "2a31ee4d-5399-4d4e-9f49-5ab34653fd71",
        "collapsed": true,
        "trusted": false
      },
      "cell_type": "code",
      "source": "x.shape, y.shape",
      "execution_count": null,
      "outputs": []
    },
    {
      "metadata": {
        "_uuid": "ee40aff90e4f39e3d2c069af512ee04ac65894f3",
        "_cell_guid": "63772e58-bb74-4e2f-abee-460283b65709",
        "collapsed": true,
        "trusted": false
      },
      "cell_type": "code",
      "source": "plt.figure(figsize=(7,5))\nplt.plot(x,y, 'o')\nplt.title(\"Scatter plot of x vs. y\")\nplt.xlabel(\"x\")\nplt.ylabel(\"y\")\nplt.show()",
      "execution_count": null,
      "outputs": []
    },
    {
      "metadata": {
        "_uuid": "666f5df63d33c0d03d8c945c32a4554f2623a54e",
        "_cell_guid": "f4efe8b4-26d4-4f03-9beb-f0dca7b5c02f"
      },
      "cell_type": "markdown",
      "source": "## Gradient Boosting (DecisionTrees in a loop)\n"
    },
    {
      "metadata": {
        "_uuid": "0ec7caf7263e323fc8962fc40f6fb29910a4003b",
        "_cell_guid": "d730b357-f5c9-48b9-b006-fd876488f73a",
        "collapsed": true,
        "trusted": false
      },
      "cell_type": "code",
      "source": "def std_agg(cnt, s1, s2): return math.sqrt((s2/cnt) - (s1/cnt)**2)",
      "execution_count": null,
      "outputs": []
    },
    {
      "metadata": {
        "_uuid": "68cf79497f0a6b38a6076fb01e7e40d8f8a6b1ef",
        "_cell_guid": "4aa2f684-5d14-47d3-ae00-b8fa42e1edbb",
        "collapsed": true,
        "trusted": false
      },
      "cell_type": "code",
      "source": "xi = x # initialization of input\nyi = y # initialization of target\n# x,y --> use where no need to change original y\nei = 0 # initialization of error\nn = len(yi)  # number of rows\npredf = 0 # initial prediction 0\n\nfor i in range(30): # like n_estimators\n    tree = DecisionTree(xi,yi)\n    tree.find_better_split(0)\n    \n    r = np.where(xi == tree.split)[0][0]    \n    \n    left_idx = np.where(xi <= tree.split)[0]\n    right_idx = np.where(xi > tree.split)[0]\n    \n    predi = np.zeros(n)\n    np.put(predi, left_idx, np.repeat(np.mean(yi[left_idx]), r))  # replace left side mean y\n    np.put(predi, right_idx, np.repeat(np.mean(yi[right_idx]), n-r))  # right side mean y\n    \n    predi = predi[:,None]  # make long vector (nx1) in compatible with y\n    predf = predf + predi  # final prediction will be previous prediction value + new prediction of residual\n    \n    ei = y - predf  # needed originl y here as residual always from original y    \n    yi = ei # update yi as residual to reloop\n    \n    \n    # plotting after prediction\n    xa = np.array(x.x) # column name of x is x \n    order = np.argsort(xa)\n    xs = np.array(xa)[order]\n    ys = np.array(predf)[order]\n    \n    #epreds = np.array(epred[:,None])[order]\n\n    f, (ax1, ax2) = plt.subplots(1, 2, sharey=True, figsize = (13,2.5))\n\n    ax1.plot(x,y, 'o')\n    ax1.plot(xs, ys, 'r')\n    ax1.set_title(f'Prediction (Iteration {i+1})')\n    ax1.set_xlabel('x')\n    ax1.set_ylabel('y / y_pred')\n\n    ax2.plot(x, ei, 'go')\n    ax2.set_title(f'Residuals vs. x (Iteration {i+1})')\n    ax2.set_xlabel('x')\n    ax2.set_ylabel('Residuals')\n    \n    ",
      "execution_count": null,
      "outputs": []
    },
    {
      "metadata": {
        "_uuid": "2aea693edf995214b9d1b06133355a08559f436f",
        "_cell_guid": "830446c1-b084-4181-a94b-4a73a9fde3d9",
        "collapsed": true
      },
      "cell_type": "markdown",
      "source": "Errors are not changing much after `20th iteration` and pattern in residuals is also removed. Residuals look distributed around the mean"
    },
    {
      "metadata": {
        "_uuid": "3cf63deb3ca3825a659dd375637cde764b9ffe9a",
        "_cell_guid": "3e91d738-d854-46eb-8b8f-28b0f91498a1"
      },
      "cell_type": "markdown",
      "source": "### Maths behind this logic"
    },
    {
      "metadata": {
        "_uuid": "8bf984fc53ee25f711881ed6a6c12b9370f344d5",
        "_cell_guid": "e05cba5f-63d1-4788-9fa8-1f7152259868"
      },
      "cell_type": "markdown",
      "source": "$ Predictions = y_i^p $  \n$ Loss = L(y_i, y_i^p) $  \n$ Loss = MSE = \\sum {(y_i - y_i^p)}^2 $  \n$ y_i^p = y_i^p + \\alpha * \\delta {L(y_i, y_i^p)}/ \\delta{y_i^p } $  \n$ y_i^p = y_i^p + \\alpha * \\delta {\\sum {(y_i - y_i^p)}^2}/ \\delta{y_i^p } $  \n$ y_i^p = y_i^p - \\alpha * 2*{\\sum {(y_i - y_i^p)}} $  "
    },
    {
      "metadata": {
        "_uuid": "d19995fecbe2f1b9e1171aff6e8c92790d09d073",
        "_cell_guid": "10d2ffe3-5fb5-4bc2-811c-afdda6ec9cb2"
      },
      "cell_type": "markdown",
      "source": "where, $y_i$ = ith target value, $y_i^p$ = ith prediction, $ L(y_i, y_i^p) $ is Loss function, $\\alpha$ is learning rate. So the last equation tells us that, we need to adjust predictions based on our residuals, i.e. $\\sum {(y_i - y_i^p)}$. This is what we did, we adjusted our predictions using the fit on residuals. (accordingly adjusting value of $\\alpha$"
    },
    {
      "metadata": {
        "_uuid": "3ed43b846ff5d7b868a0b828a4f0511aa506aeb8",
        "_cell_guid": "f5c3e03b-b0b3-4a1c-aa7b-cc2e0a63b501",
        "collapsed": true,
        "trusted": false
      },
      "cell_type": "code",
      "source": "",
      "execution_count": null,
      "outputs": []
    }
  ],
  "metadata": {
    "language_info": {
      "name": "python",
      "version": "3.6.6",
      "mimetype": "text/x-python",
      "codemirror_mode": {
        "name": "ipython",
        "version": 3
      },
      "pygments_lexer": "ipython3",
      "nbconvert_exporter": "python",
      "file_extension": ".py"
    },
    "kernelspec": {
      "display_name": "Python 3",
      "language": "python",
      "name": "python3"
    }
  },
  "nbformat": 4,
  "nbformat_minor": 1
}